{
 "metadata": {
  "language_info": {
   "codemirror_mode": {
    "name": "ipython",
    "version": 3
   },
   "file_extension": ".py",
   "mimetype": "text/x-python",
   "name": "python",
   "nbconvert_exporter": "python",
   "pygments_lexer": "ipython3",
   "version": 3
  },
  "orig_nbformat": 2
 },
 "nbformat": 4,
 "nbformat_minor": 2,
 "cells": [
  {
   "cell_type": "code",
   "execution_count": null,
   "metadata": {},
   "outputs": [],
   "source": [
    "# Testing rescale method 1\n",
    "for i in range(0,256):\n",
    "    print(i,(i*(0.99/255))+0.01)"
   ]
  },
  {
   "cell_type": "code",
   "execution_count": null,
   "metadata": {},
   "outputs": [],
   "source": [
    "counter = 0\n",
    "rand_list = []\n",
    "for i in df.columns:\n",
    "    #print(i)\n",
    "    counter+=1\n",
    "    try:\n",
    "        print(f'Line {counter}:',df.value_counts(df.columns[counter-1]))\n",
    "    except IndexError:\n",
    "        rand_list.append(i)\n",
    "print(rand_list)"
   ]
  },
  {
   "cell_type": "code",
   "execution_count": null,
   "metadata": {},
   "outputs": [],
   "source": [
    "df2 = df.drop(df.columns[0], axis=1)"
   ]
  },
  {
   "cell_type": "code",
   "execution_count": null,
   "metadata": {},
   "outputs": [],
   "source": [
    "for row, column in df2:\n",
    "    print(row, column)\n",
    "\n",
    "# for i in x:\n",
    "#     if i == 255:\n",
    "#         i = 0.999\n",
    "#     else:\n",
    "#         i = (i*(0.99/255))+0.01"
   ]
  },
  {
   "cell_type": "code",
   "execution_count": null,
   "metadata": {},
   "outputs": [],
   "source": [
    "dtypes_list = set()\n",
    "for i in df.dtypes:\n",
    "    print(i)\n",
    "    dtypes_list.add(i)\n",
    "print(dtypes_list)"
   ]
  }
 ]
}