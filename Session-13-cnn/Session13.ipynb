{
 "metadata": {
  "language_info": {
   "codemirror_mode": {
    "name": "ipython",
    "version": 3
   },
   "file_extension": ".py",
   "mimetype": "text/x-python",
   "name": "python",
   "nbconvert_exporter": "python",
   "pygments_lexer": "ipython3",
   "version": "3.7.9-final"
  },
  "orig_nbformat": 2,
  "kernelspec": {
   "name": "Python 3.7.9 64-bit ('tf-gpu': conda)",
   "display_name": "Python 3.7.9 64-bit ('tf-gpu': conda)",
   "metadata": {
    "interpreter": {
     "hash": "9a2c2ef81291e3e3a506884a4f5c29791a7523fb6a6b9fdd4fd3297ed79291df"
    }
   }
  }
 },
 "nbformat": 4,
 "nbformat_minor": 2,
 "cells": [
  {
   "cell_type": "code",
   "execution_count": 1,
   "metadata": {},
   "outputs": [
    {
     "output_type": "stream",
     "name": "stdout",
     "text": [
      "1 Physical GPUs, 1 Logical GPUs\nWall time: 2.27 s\n"
     ]
    }
   ],
   "source": [
    "%%time\n",
    "# Error mitigation\n",
    "import tensorflow as tf\n",
    "gpus = tf.config.experimental.list_physical_devices('GPU')\n",
    "if gpus:\n",
    "  try:\n",
    "    # Currently, memory growth needs to be the same across GPUs\n",
    "    for gpu in gpus:\n",
    "      tf.config.experimental.set_memory_growth(gpu, True)\n",
    "    logical_gpus = tf.config.experimental.list_logical_devices('GPU')\n",
    "    print(len(gpus), \"Physical GPUs,\", len(logical_gpus), \"Logical GPUs\")\n",
    "  except RuntimeError as e:\n",
    "    # Memory growth must be set before GPUs have been initialized\n",
    "    print(e)"
   ]
  },
  {
   "source": [
    "UC3MAL201 Machine Learning Session 13 Tutorial 13 Leon Eriksen Helgeland -\n",
    "First written 09.10.2020\n",
    "\n",
    "# Convolutional Neural Networks (CNN)"
   ],
   "cell_type": "markdown",
   "metadata": {}
  },
  {
   "source": [
    "#### Table of contents\n",
    "1. Dataset description\n",
    "2. Data pre-processing\n",
    "3. Modelling process\n",
    "4. Training process\n",
    "5. Prediction process"
   ],
   "cell_type": "markdown",
   "metadata": {}
  },
  {
   "cell_type": "code",
   "execution_count": null,
   "metadata": {},
   "outputs": [],
   "source": []
  },
  {
   "source": [
    "## 1. Dataset description\n",
    "\n",
    "- Size : 28x28 - grayscale - 0/255\n",
    "- Amount : 70k - split 60/10\n",
    "- Features : 784 columns\n",
    "- Class : 1 column - type of cloth material"
   ],
   "cell_type": "markdown",
   "metadata": {}
  },
  {
   "cell_type": "code",
   "execution_count": 2,
   "metadata": {},
   "outputs": [
    {
     "output_type": "stream",
     "name": "stderr",
     "text": [
      "Using TensorFlow backend.\n",
      "Wall time: 486 ms\n"
     ]
    }
   ],
   "source": [
    "%%time\n",
    "\n",
    "# KERAS\n",
    "from keras.layers import Dense, Dropout, Convolution2D, Conv2D, MaxPooling2D, Flatten, Activation\n",
    "from keras.preprocessing.image import ImageDataGenerator\n",
    "from keras.models import Sequential\n",
    "from keras.optimizers import Adam\n",
    "from keras.models import load_model\n",
    "\n",
    "# SKLEARN\n",
    "from sklearn.metrics import accuracy_score, f1_score, precision_score, recall_score, classification_report\n",
    "from sklearn.metrics import confusion_matrix\n",
    "\n",
    "# OTHER\n",
    "import matplotlib.pyplot as plt\n",
    "import numpy as np\n",
    "import random\n",
    "import glob\n",
    "\n",
    "# Stop using\n",
    "from sklearn.model_selection import KFold\n",
    "from sklearn.preprocessing import OneHotEncoder\n",
    "import tensorflow.keras.optimizers\n",
    "from matplotlib import pyplot\n",
    "import pandas as pd"
   ]
  },
  {
   "source": [
    "## 2. Data pre-processing"
   ],
   "cell_type": "markdown",
   "metadata": {}
  },
  {
   "cell_type": "code",
   "execution_count": 4,
   "metadata": {},
   "outputs": [
    {
     "output_type": "stream",
     "name": "stdout",
     "text": [
      "Wall time: 7.51 s\n"
     ]
    }
   ],
   "source": [
    "%%time\n",
    "X_train, y_train = pd.read_csv(r'C:\\Users\\leon.helgeland\\Documents\\GitHub\\Datasets\\S05MAL_Session_13\\fashion-mnist_train.csv',header='infer').iloc[:,1:].apply(lambda a: a*(0.99/255)+0.01), OneHotEncoder(categories=\"auto\", sparse=False, dtype=np.int16).fit_transform(pd.read_csv(r'C:\\Users\\leon.helgeland\\Documents\\GitHub\\Datasets\\S05MAL_Session_13\\fashion-mnist_train.csv',header='infer').iloc[:,:1].to_numpy().reshape(-1, 1))\n",
    "X_test, y_test = pd.read_csv(r'C:\\Users\\leon.helgeland\\Documents\\GitHub\\Datasets\\S05MAL_Session_13\\fashion-mnist_test.csv',header='infer').iloc[:,1:].apply(lambda a: a*(0.99/255)+0.01), OneHotEncoder(categories=\"auto\", sparse=False, dtype=np.int16).fit_transform(pd.read_csv(r'C:\\Users\\leon.helgeland\\Documents\\GitHub\\Datasets\\S05MAL_Session_13\\fashion-mnist_test.csv',header='infer').iloc[:,:1].to_numpy().reshape(-1, 1))"
   ]
  },
  {
   "cell_type": "code",
   "execution_count": 5,
   "metadata": {},
   "outputs": [],
   "source": [
    "# need to rehape since img\n",
    "X_train = X_train.to_numpy().reshape((X_train.shape[0], 28, 28, 1))\n",
    "X_test = X_test.to_numpy().reshape((X_test.shape[0], 28, 28, 1))"
   ]
  },
  {
   "cell_type": "code",
   "execution_count": 6,
   "metadata": {},
   "outputs": [
    {
     "output_type": "display_data",
     "data": {
      "text/plain": "<Figure size 432x288 with 1 Axes>",
      "image/svg+xml": "<?xml version=\"1.0\" encoding=\"utf-8\" standalone=\"no\"?>\r\n<!DOCTYPE svg PUBLIC \"-//W3C//DTD SVG 1.1//EN\"\r\n  \"http://www.w3.org/Graphics/SVG/1.1/DTD/svg11.dtd\">\r\n<!-- Created with matplotlib (https://matplotlib.org/) -->\r\n<svg height=\"248.518125pt\" version=\"1.1\" viewBox=\"0 0 251.565 248.518125\" width=\"251.565pt\" xmlns=\"http://www.w3.org/2000/svg\" xmlns:xlink=\"http://www.w3.org/1999/xlink\">\r\n <metadata>\r\n  <rdf:RDF xmlns:cc=\"http://creativecommons.org/ns#\" xmlns:dc=\"http://purl.org/dc/elements/1.1/\" xmlns:rdf=\"http://www.w3.org/1999/02/22-rdf-syntax-ns#\">\r\n   <cc:Work>\r\n    <dc:type rdf:resource=\"http://purl.org/dc/dcmitype/StillImage\"/>\r\n    <dc:date>2020-10-10T21:12:39.665254</dc:date>\r\n    <dc:format>image/svg+xml</dc:format>\r\n    <dc:creator>\r\n     <cc:Agent>\r\n      <dc:title>Matplotlib v3.3.1, https://matplotlib.org/</dc:title>\r\n     </cc:Agent>\r\n    </dc:creator>\r\n   </cc:Work>\r\n  </rdf:RDF>\r\n </metadata>\r\n <defs>\r\n  <style type=\"text/css\">*{stroke-linecap:butt;stroke-linejoin:round;}</style>\r\n </defs>\r\n <g id=\"figure_1\">\r\n  <g id=\"patch_1\">\r\n   <path d=\"M 0 248.518125 \r\nL 251.565 248.518125 \r\nL 251.565 0 \r\nL 0 0 \r\nz\r\n\" style=\"fill:none;\"/>\r\n  </g>\r\n  <g id=\"axes_1\">\r\n   <g id=\"patch_2\">\r\n    <path d=\"M 26.925 224.64 \r\nL 244.365 224.64 \r\nL 244.365 7.2 \r\nL 26.925 7.2 \r\nz\r\n\" style=\"fill:#ffffff;\"/>\r\n   </g>\r\n   <g clip-path=\"url(#p49b2119260)\">\r\n    <image height=\"218\" id=\"image9093f1ce9c\" transform=\"scale(1 -1)translate(0 -218)\" width=\"218\" x=\"26.925\" xlink:href=\"data:image/png;base64,\r\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\" y=\"-6.64\"/>\r\n   </g>\r\n   <g id=\"matplotlib.axis_1\">\r\n    <g id=\"xtick_1\">\r\n     <g id=\"line2d_1\">\r\n      <defs>\r\n       <path d=\"M 0 0 \r\nL 0 3.5 \r\n\" id=\"m74e9ce7ce3\" style=\"stroke:#000000;stroke-width:0.8;\"/>\r\n      </defs>\r\n      <g>\r\n       <use style=\"stroke:#000000;stroke-width:0.8;\" x=\"30.807857\" xlink:href=\"#m74e9ce7ce3\" y=\"224.64\"/>\r\n      </g>\r\n     </g>\r\n     <g id=\"text_1\">\r\n      <!-- 0 -->\r\n      <g transform=\"translate(27.626607 239.238437)scale(0.1 -0.1)\">\r\n       <defs>\r\n        <path d=\"M 31.78125 66.40625 \r\nQ 24.171875 66.40625 20.328125 58.90625 \r\nQ 16.5 51.421875 16.5 36.375 \r\nQ 16.5 21.390625 20.328125 13.890625 \r\nQ 24.171875 6.390625 31.78125 6.390625 \r\nQ 39.453125 6.390625 43.28125 13.890625 \r\nQ 47.125 21.390625 47.125 36.375 \r\nQ 47.125 51.421875 43.28125 58.90625 \r\nQ 39.453125 66.40625 31.78125 66.40625 \r\nz\r\nM 31.78125 74.21875 \r\nQ 44.046875 74.21875 50.515625 64.515625 \r\nQ 56.984375 54.828125 56.984375 36.375 \r\nQ 56.984375 17.96875 50.515625 8.265625 \r\nQ 44.046875 -1.421875 31.78125 -1.421875 \r\nQ 19.53125 -1.421875 13.0625 8.265625 \r\nQ 6.59375 17.96875 6.59375 36.375 \r\nQ 6.59375 54.828125 13.0625 64.515625 \r\nQ 19.53125 74.21875 31.78125 74.21875 \r\nz\r\n\" id=\"DejaVuSans-48\"/>\r\n       </defs>\r\n       <use xlink:href=\"#DejaVuSans-48\"/>\r\n      </g>\r\n     </g>\r\n    </g>\r\n    <g id=\"xtick_2\">\r\n     <g id=\"line2d_2\">\r\n      <g>\r\n       <use style=\"stroke:#000000;stroke-width:0.8;\" x=\"69.636429\" xlink:href=\"#m74e9ce7ce3\" y=\"224.64\"/>\r\n      </g>\r\n     </g>\r\n     <g id=\"text_2\">\r\n      <!-- 5 -->\r\n      <g transform=\"translate(66.455179 239.238437)scale(0.1 -0.1)\">\r\n       <defs>\r\n        <path d=\"M 10.796875 72.90625 \r\nL 49.515625 72.90625 \r\nL 49.515625 64.59375 \r\nL 19.828125 64.59375 \r\nL 19.828125 46.734375 \r\nQ 21.96875 47.46875 24.109375 47.828125 \r\nQ 26.265625 48.1875 28.421875 48.1875 \r\nQ 40.625 48.1875 47.75 41.5 \r\nQ 54.890625 34.8125 54.890625 23.390625 \r\nQ 54.890625 11.625 47.5625 5.09375 \r\nQ 40.234375 -1.421875 26.90625 -1.421875 \r\nQ 22.3125 -1.421875 17.546875 -0.640625 \r\nQ 12.796875 0.140625 7.71875 1.703125 \r\nL 7.71875 11.625 \r\nQ 12.109375 9.234375 16.796875 8.0625 \r\nQ 21.484375 6.890625 26.703125 6.890625 \r\nQ 35.15625 6.890625 40.078125 11.328125 \r\nQ 45.015625 15.765625 45.015625 23.390625 \r\nQ 45.015625 31 40.078125 35.4375 \r\nQ 35.15625 39.890625 26.703125 39.890625 \r\nQ 22.75 39.890625 18.8125 39.015625 \r\nQ 14.890625 38.140625 10.796875 36.28125 \r\nz\r\n\" id=\"DejaVuSans-53\"/>\r\n       </defs>\r\n       <use xlink:href=\"#DejaVuSans-53\"/>\r\n      </g>\r\n     </g>\r\n    </g>\r\n    <g id=\"xtick_3\">\r\n     <g id=\"line2d_3\">\r\n      <g>\r\n       <use style=\"stroke:#000000;stroke-width:0.8;\" x=\"108.465\" xlink:href=\"#m74e9ce7ce3\" y=\"224.64\"/>\r\n      </g>\r\n     </g>\r\n     <g id=\"text_3\">\r\n      <!-- 10 -->\r\n      <g transform=\"translate(102.1025 239.238437)scale(0.1 -0.1)\">\r\n       <defs>\r\n        <path d=\"M 12.40625 8.296875 \r\nL 28.515625 8.296875 \r\nL 28.515625 63.921875 \r\nL 10.984375 60.40625 \r\nL 10.984375 69.390625 \r\nL 28.421875 72.90625 \r\nL 38.28125 72.90625 \r\nL 38.28125 8.296875 \r\nL 54.390625 8.296875 \r\nL 54.390625 0 \r\nL 12.40625 0 \r\nz\r\n\" id=\"DejaVuSans-49\"/>\r\n       </defs>\r\n       <use xlink:href=\"#DejaVuSans-49\"/>\r\n       <use x=\"63.623047\" xlink:href=\"#DejaVuSans-48\"/>\r\n      </g>\r\n     </g>\r\n    </g>\r\n    <g id=\"xtick_4\">\r\n     <g id=\"line2d_4\">\r\n      <g>\r\n       <use style=\"stroke:#000000;stroke-width:0.8;\" x=\"147.293571\" xlink:href=\"#m74e9ce7ce3\" y=\"224.64\"/>\r\n      </g>\r\n     </g>\r\n     <g id=\"text_4\">\r\n      <!-- 15 -->\r\n      <g transform=\"translate(140.931071 239.238437)scale(0.1 -0.1)\">\r\n       <use xlink:href=\"#DejaVuSans-49\"/>\r\n       <use x=\"63.623047\" xlink:href=\"#DejaVuSans-53\"/>\r\n      </g>\r\n     </g>\r\n    </g>\r\n    <g id=\"xtick_5\">\r\n     <g id=\"line2d_5\">\r\n      <g>\r\n       <use style=\"stroke:#000000;stroke-width:0.8;\" x=\"186.122143\" xlink:href=\"#m74e9ce7ce3\" y=\"224.64\"/>\r\n      </g>\r\n     </g>\r\n     <g id=\"text_5\">\r\n      <!-- 20 -->\r\n      <g transform=\"translate(179.759643 239.238437)scale(0.1 -0.1)\">\r\n       <defs>\r\n        <path d=\"M 19.1875 8.296875 \r\nL 53.609375 8.296875 \r\nL 53.609375 0 \r\nL 7.328125 0 \r\nL 7.328125 8.296875 \r\nQ 12.9375 14.109375 22.625 23.890625 \r\nQ 32.328125 33.6875 34.8125 36.53125 \r\nQ 39.546875 41.84375 41.421875 45.53125 \r\nQ 43.3125 49.21875 43.3125 52.78125 \r\nQ 43.3125 58.59375 39.234375 62.25 \r\nQ 35.15625 65.921875 28.609375 65.921875 \r\nQ 23.96875 65.921875 18.8125 64.3125 \r\nQ 13.671875 62.703125 7.8125 59.421875 \r\nL 7.8125 69.390625 \r\nQ 13.765625 71.78125 18.9375 73 \r\nQ 24.125 74.21875 28.421875 74.21875 \r\nQ 39.75 74.21875 46.484375 68.546875 \r\nQ 53.21875 62.890625 53.21875 53.421875 \r\nQ 53.21875 48.921875 51.53125 44.890625 \r\nQ 49.859375 40.875 45.40625 35.40625 \r\nQ 44.1875 33.984375 37.640625 27.21875 \r\nQ 31.109375 20.453125 19.1875 8.296875 \r\nz\r\n\" id=\"DejaVuSans-50\"/>\r\n       </defs>\r\n       <use xlink:href=\"#DejaVuSans-50\"/>\r\n       <use x=\"63.623047\" xlink:href=\"#DejaVuSans-48\"/>\r\n      </g>\r\n     </g>\r\n    </g>\r\n    <g id=\"xtick_6\">\r\n     <g id=\"line2d_6\">\r\n      <g>\r\n       <use style=\"stroke:#000000;stroke-width:0.8;\" x=\"224.950714\" xlink:href=\"#m74e9ce7ce3\" y=\"224.64\"/>\r\n      </g>\r\n     </g>\r\n     <g id=\"text_6\">\r\n      <!-- 25 -->\r\n      <g transform=\"translate(218.588214 239.238437)scale(0.1 -0.1)\">\r\n       <use xlink:href=\"#DejaVuSans-50\"/>\r\n       <use x=\"63.623047\" xlink:href=\"#DejaVuSans-53\"/>\r\n      </g>\r\n     </g>\r\n    </g>\r\n   </g>\r\n   <g id=\"matplotlib.axis_2\">\r\n    <g id=\"ytick_1\">\r\n     <g id=\"line2d_7\">\r\n      <defs>\r\n       <path d=\"M 0 0 \r\nL -3.5 0 \r\n\" id=\"mc4b17facbb\" style=\"stroke:#000000;stroke-width:0.8;\"/>\r\n      </defs>\r\n      <g>\r\n       <use style=\"stroke:#000000;stroke-width:0.8;\" x=\"26.925\" xlink:href=\"#mc4b17facbb\" y=\"11.082857\"/>\r\n      </g>\r\n     </g>\r\n     <g id=\"text_7\">\r\n      <!-- 0 -->\r\n      <g transform=\"translate(13.5625 14.882076)scale(0.1 -0.1)\">\r\n       <use xlink:href=\"#DejaVuSans-48\"/>\r\n      </g>\r\n     </g>\r\n    </g>\r\n    <g id=\"ytick_2\">\r\n     <g id=\"line2d_8\">\r\n      <g>\r\n       <use style=\"stroke:#000000;stroke-width:0.8;\" x=\"26.925\" xlink:href=\"#mc4b17facbb\" y=\"49.911429\"/>\r\n      </g>\r\n     </g>\r\n     <g id=\"text_8\">\r\n      <!-- 5 -->\r\n      <g transform=\"translate(13.5625 53.710647)scale(0.1 -0.1)\">\r\n       <use xlink:href=\"#DejaVuSans-53\"/>\r\n      </g>\r\n     </g>\r\n    </g>\r\n    <g id=\"ytick_3\">\r\n     <g id=\"line2d_9\">\r\n      <g>\r\n       <use style=\"stroke:#000000;stroke-width:0.8;\" x=\"26.925\" xlink:href=\"#mc4b17facbb\" y=\"88.74\"/>\r\n      </g>\r\n     </g>\r\n     <g id=\"text_9\">\r\n      <!-- 10 -->\r\n      <g transform=\"translate(7.2 92.539219)scale(0.1 -0.1)\">\r\n       <use xlink:href=\"#DejaVuSans-49\"/>\r\n       <use x=\"63.623047\" xlink:href=\"#DejaVuSans-48\"/>\r\n      </g>\r\n     </g>\r\n    </g>\r\n    <g id=\"ytick_4\">\r\n     <g id=\"line2d_10\">\r\n      <g>\r\n       <use style=\"stroke:#000000;stroke-width:0.8;\" x=\"26.925\" xlink:href=\"#mc4b17facbb\" y=\"127.568571\"/>\r\n      </g>\r\n     </g>\r\n     <g id=\"text_10\">\r\n      <!-- 15 -->\r\n      <g transform=\"translate(7.2 131.36779)scale(0.1 -0.1)\">\r\n       <use xlink:href=\"#DejaVuSans-49\"/>\r\n       <use x=\"63.623047\" xlink:href=\"#DejaVuSans-53\"/>\r\n      </g>\r\n     </g>\r\n    </g>\r\n    <g id=\"ytick_5\">\r\n     <g id=\"line2d_11\">\r\n      <g>\r\n       <use style=\"stroke:#000000;stroke-width:0.8;\" x=\"26.925\" xlink:href=\"#mc4b17facbb\" y=\"166.397143\"/>\r\n      </g>\r\n     </g>\r\n     <g id=\"text_11\">\r\n      <!-- 20 -->\r\n      <g transform=\"translate(7.2 170.196362)scale(0.1 -0.1)\">\r\n       <use xlink:href=\"#DejaVuSans-50\"/>\r\n       <use x=\"63.623047\" xlink:href=\"#DejaVuSans-48\"/>\r\n      </g>\r\n     </g>\r\n    </g>\r\n    <g id=\"ytick_6\">\r\n     <g id=\"line2d_12\">\r\n      <g>\r\n       <use style=\"stroke:#000000;stroke-width:0.8;\" x=\"26.925\" xlink:href=\"#mc4b17facbb\" y=\"205.225714\"/>\r\n      </g>\r\n     </g>\r\n     <g id=\"text_12\">\r\n      <!-- 25 -->\r\n      <g transform=\"translate(7.2 209.024933)scale(0.1 -0.1)\">\r\n       <use xlink:href=\"#DejaVuSans-50\"/>\r\n       <use x=\"63.623047\" xlink:href=\"#DejaVuSans-53\"/>\r\n      </g>\r\n     </g>\r\n    </g>\r\n   </g>\r\n   <g id=\"patch_3\">\r\n    <path d=\"M 26.925 224.64 \r\nL 26.925 7.2 \r\n\" style=\"fill:none;stroke:#000000;stroke-linecap:square;stroke-linejoin:miter;stroke-width:0.8;\"/>\r\n   </g>\r\n   <g id=\"patch_4\">\r\n    <path d=\"M 244.365 224.64 \r\nL 244.365 7.2 \r\n\" style=\"fill:none;stroke:#000000;stroke-linecap:square;stroke-linejoin:miter;stroke-width:0.8;\"/>\r\n   </g>\r\n   <g id=\"patch_5\">\r\n    <path d=\"M 26.925 224.64 \r\nL 244.365 224.64 \r\n\" style=\"fill:none;stroke:#000000;stroke-linecap:square;stroke-linejoin:miter;stroke-width:0.8;\"/>\r\n   </g>\r\n   <g id=\"patch_6\">\r\n    <path d=\"M 26.925 7.2 \r\nL 244.365 7.2 \r\n\" style=\"fill:none;stroke:#000000;stroke-linecap:square;stroke-linejoin:miter;stroke-width:0.8;\"/>\r\n   </g>\r\n  </g>\r\n </g>\r\n <defs>\r\n  <clipPath id=\"p49b2119260\">\r\n   <rect height=\"217.44\" width=\"217.44\" x=\"26.925\" y=\"7.2\"/>\r\n  </clipPath>\r\n </defs>\r\n</svg>\r\n",
      "image/png": "[encoded data removed]"
     },
     "metadata": {
      "needs_background": "light"
     }
    },
    {
     "output_type": "display_data",
     "data": {
      "text/plain": "<Figure size 432x288 with 1 Axes>",
      "image/svg+xml": "<?xml version=\"1.0\" encoding=\"utf-8\" standalone=\"no\"?>\r\n<!DOCTYPE svg PUBLIC \"-//W3C//DTD SVG 1.1//EN\"\r\n  \"http://www.w3.org/Graphics/SVG/1.1/DTD/svg11.dtd\">\r\n<!-- Created with matplotlib (https://matplotlib.org/) -->\r\n<svg height=\"248.518125pt\" version=\"1.1\" viewBox=\"0 0 251.565 248.518125\" width=\"251.565pt\" xmlns=\"http://www.w3.org/2000/svg\" xmlns:xlink=\"http://www.w3.org/1999/xlink\">\r\n <metadata>\r\n  <rdf:RDF xmlns:cc=\"http://creativecommons.org/ns#\" xmlns:dc=\"http://purl.org/dc/elements/1.1/\" xmlns:rdf=\"http://www.w3.org/1999/02/22-rdf-syntax-ns#\">\r\n   <cc:Work>\r\n    <dc:type rdf:resource=\"http://purl.org/dc/dcmitype/StillImage\"/>\r\n    <dc:date>2020-10-10T21:12:39.800893</dc:date>\r\n    <dc:format>image/svg+xml</dc:format>\r\n    <dc:creator>\r\n     <cc:Agent>\r\n      <dc:title>Matplotlib v3.3.1, https://matplotlib.org/</dc:title>\r\n     </cc:Agent>\r\n    </dc:creator>\r\n   </cc:Work>\r\n  </rdf:RDF>\r\n </metadata>\r\n <defs>\r\n  <style type=\"text/css\">*{stroke-linecap:butt;stroke-linejoin:round;}</style>\r\n </defs>\r\n <g id=\"figure_1\">\r\n  <g id=\"patch_1\">\r\n   <path d=\"M 0 248.518125 \r\nL 251.565 248.518125 \r\nL 251.565 0 \r\nL 0 0 \r\nz\r\n\" style=\"fill:none;\"/>\r\n  </g>\r\n  <g id=\"axes_1\">\r\n   <g id=\"patch_2\">\r\n    <path d=\"M 26.925 224.64 \r\nL 244.365 224.64 \r\nL 244.365 7.2 \r\nL 26.925 7.2 \r\nz\r\n\" style=\"fill:#ffffff;\"/>\r\n   </g>\r\n   <g clip-path=\"url(#pbea51d3293)\">\r\n    <image height=\"218\" id=\"imageaa18d36905\" transform=\"scale(1 -1)translate(0 -218)\" width=\"218\" x=\"26.925\" xlink:href=\"data:image/png;base64,\r\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\" y=\"-6.64\"/>\r\n   </g>\r\n   <g id=\"matplotlib.axis_1\">\r\n    <g id=\"xtick_1\">\r\n     <g id=\"line2d_1\">\r\n      <defs>\r\n       <path d=\"M 0 0 \r\nL 0 3.5 \r\n\" id=\"m1fbd1be7e6\" style=\"stroke:#000000;stroke-width:0.8;\"/>\r\n      </defs>\r\n      <g>\r\n       <use style=\"stroke:#000000;stroke-width:0.8;\" x=\"30.807857\" xlink:href=\"#m1fbd1be7e6\" y=\"224.64\"/>\r\n      </g>\r\n     </g>\r\n     <g id=\"text_1\">\r\n      <!-- 0 -->\r\n      <g transform=\"translate(27.626607 239.238437)scale(0.1 -0.1)\">\r\n       <defs>\r\n        <path d=\"M 31.78125 66.40625 \r\nQ 24.171875 66.40625 20.328125 58.90625 \r\nQ 16.5 51.421875 16.5 36.375 \r\nQ 16.5 21.390625 20.328125 13.890625 \r\nQ 24.171875 6.390625 31.78125 6.390625 \r\nQ 39.453125 6.390625 43.28125 13.890625 \r\nQ 47.125 21.390625 47.125 36.375 \r\nQ 47.125 51.421875 43.28125 58.90625 \r\nQ 39.453125 66.40625 31.78125 66.40625 \r\nz\r\nM 31.78125 74.21875 \r\nQ 44.046875 74.21875 50.515625 64.515625 \r\nQ 56.984375 54.828125 56.984375 36.375 \r\nQ 56.984375 17.96875 50.515625 8.265625 \r\nQ 44.046875 -1.421875 31.78125 -1.421875 \r\nQ 19.53125 -1.421875 13.0625 8.265625 \r\nQ 6.59375 17.96875 6.59375 36.375 \r\nQ 6.59375 54.828125 13.0625 64.515625 \r\nQ 19.53125 74.21875 31.78125 74.21875 \r\nz\r\n\" id=\"DejaVuSans-48\"/>\r\n       </defs>\r\n       <use xlink:href=\"#DejaVuSans-48\"/>\r\n      </g>\r\n     </g>\r\n    </g>\r\n    <g id=\"xtick_2\">\r\n     <g id=\"line2d_2\">\r\n      <g>\r\n       <use style=\"stroke:#000000;stroke-width:0.8;\" x=\"69.636429\" xlink:href=\"#m1fbd1be7e6\" y=\"224.64\"/>\r\n      </g>\r\n     </g>\r\n     <g id=\"text_2\">\r\n      <!-- 5 -->\r\n      <g transform=\"translate(66.455179 239.238437)scale(0.1 -0.1)\">\r\n       <defs>\r\n        <path d=\"M 10.796875 72.90625 \r\nL 49.515625 72.90625 \r\nL 49.515625 64.59375 \r\nL 19.828125 64.59375 \r\nL 19.828125 46.734375 \r\nQ 21.96875 47.46875 24.109375 47.828125 \r\nQ 26.265625 48.1875 28.421875 48.1875 \r\nQ 40.625 48.1875 47.75 41.5 \r\nQ 54.890625 34.8125 54.890625 23.390625 \r\nQ 54.890625 11.625 47.5625 5.09375 \r\nQ 40.234375 -1.421875 26.90625 -1.421875 \r\nQ 22.3125 -1.421875 17.546875 -0.640625 \r\nQ 12.796875 0.140625 7.71875 1.703125 \r\nL 7.71875 11.625 \r\nQ 12.109375 9.234375 16.796875 8.0625 \r\nQ 21.484375 6.890625 26.703125 6.890625 \r\nQ 35.15625 6.890625 40.078125 11.328125 \r\nQ 45.015625 15.765625 45.015625 23.390625 \r\nQ 45.015625 31 40.078125 35.4375 \r\nQ 35.15625 39.890625 26.703125 39.890625 \r\nQ 22.75 39.890625 18.8125 39.015625 \r\nQ 14.890625 38.140625 10.796875 36.28125 \r\nz\r\n\" id=\"DejaVuSans-53\"/>\r\n       </defs>\r\n       <use xlink:href=\"#DejaVuSans-53\"/>\r\n      </g>\r\n     </g>\r\n    </g>\r\n    <g id=\"xtick_3\">\r\n     <g id=\"line2d_3\">\r\n      <g>\r\n       <use style=\"stroke:#000000;stroke-width:0.8;\" x=\"108.465\" xlink:href=\"#m1fbd1be7e6\" y=\"224.64\"/>\r\n      </g>\r\n     </g>\r\n     <g id=\"text_3\">\r\n      <!-- 10 -->\r\n      <g transform=\"translate(102.1025 239.238437)scale(0.1 -0.1)\">\r\n       <defs>\r\n        <path d=\"M 12.40625 8.296875 \r\nL 28.515625 8.296875 \r\nL 28.515625 63.921875 \r\nL 10.984375 60.40625 \r\nL 10.984375 69.390625 \r\nL 28.421875 72.90625 \r\nL 38.28125 72.90625 \r\nL 38.28125 8.296875 \r\nL 54.390625 8.296875 \r\nL 54.390625 0 \r\nL 12.40625 0 \r\nz\r\n\" id=\"DejaVuSans-49\"/>\r\n       </defs>\r\n       <use xlink:href=\"#DejaVuSans-49\"/>\r\n       <use x=\"63.623047\" xlink:href=\"#DejaVuSans-48\"/>\r\n      </g>\r\n     </g>\r\n    </g>\r\n    <g id=\"xtick_4\">\r\n     <g id=\"line2d_4\">\r\n      <g>\r\n       <use style=\"stroke:#000000;stroke-width:0.8;\" x=\"147.293571\" xlink:href=\"#m1fbd1be7e6\" y=\"224.64\"/>\r\n      </g>\r\n     </g>\r\n     <g id=\"text_4\">\r\n      <!-- 15 -->\r\n      <g transform=\"translate(140.931071 239.238437)scale(0.1 -0.1)\">\r\n       <use xlink:href=\"#DejaVuSans-49\"/>\r\n       <use x=\"63.623047\" xlink:href=\"#DejaVuSans-53\"/>\r\n      </g>\r\n     </g>\r\n    </g>\r\n    <g id=\"xtick_5\">\r\n     <g id=\"line2d_5\">\r\n      <g>\r\n       <use style=\"stroke:#000000;stroke-width:0.8;\" x=\"186.122143\" xlink:href=\"#m1fbd1be7e6\" y=\"224.64\"/>\r\n      </g>\r\n     </g>\r\n     <g id=\"text_5\">\r\n      <!-- 20 -->\r\n      <g transform=\"translate(179.759643 239.238437)scale(0.1 -0.1)\">\r\n       <defs>\r\n        <path d=\"M 19.1875 8.296875 \r\nL 53.609375 8.296875 \r\nL 53.609375 0 \r\nL 7.328125 0 \r\nL 7.328125 8.296875 \r\nQ 12.9375 14.109375 22.625 23.890625 \r\nQ 32.328125 33.6875 34.8125 36.53125 \r\nQ 39.546875 41.84375 41.421875 45.53125 \r\nQ 43.3125 49.21875 43.3125 52.78125 \r\nQ 43.3125 58.59375 39.234375 62.25 \r\nQ 35.15625 65.921875 28.609375 65.921875 \r\nQ 23.96875 65.921875 18.8125 64.3125 \r\nQ 13.671875 62.703125 7.8125 59.421875 \r\nL 7.8125 69.390625 \r\nQ 13.765625 71.78125 18.9375 73 \r\nQ 24.125 74.21875 28.421875 74.21875 \r\nQ 39.75 74.21875 46.484375 68.546875 \r\nQ 53.21875 62.890625 53.21875 53.421875 \r\nQ 53.21875 48.921875 51.53125 44.890625 \r\nQ 49.859375 40.875 45.40625 35.40625 \r\nQ 44.1875 33.984375 37.640625 27.21875 \r\nQ 31.109375 20.453125 19.1875 8.296875 \r\nz\r\n\" id=\"DejaVuSans-50\"/>\r\n       </defs>\r\n       <use xlink:href=\"#DejaVuSans-50\"/>\r\n       <use x=\"63.623047\" xlink:href=\"#DejaVuSans-48\"/>\r\n      </g>\r\n     </g>\r\n    </g>\r\n    <g id=\"xtick_6\">\r\n     <g id=\"line2d_6\">\r\n      <g>\r\n       <use style=\"stroke:#000000;stroke-width:0.8;\" x=\"224.950714\" xlink:href=\"#m1fbd1be7e6\" y=\"224.64\"/>\r\n      </g>\r\n     </g>\r\n     <g id=\"text_6\">\r\n      <!-- 25 -->\r\n      <g transform=\"translate(218.588214 239.238437)scale(0.1 -0.1)\">\r\n       <use xlink:href=\"#DejaVuSans-50\"/>\r\n       <use x=\"63.623047\" xlink:href=\"#DejaVuSans-53\"/>\r\n      </g>\r\n     </g>\r\n    </g>\r\n   </g>\r\n   <g id=\"matplotlib.axis_2\">\r\n    <g id=\"ytick_1\">\r\n     <g id=\"line2d_7\">\r\n      <defs>\r\n       <path d=\"M 0 0 \r\nL -3.5 0 \r\n\" id=\"mec5479ede0\" style=\"stroke:#000000;stroke-width:0.8;\"/>\r\n      </defs>\r\n      <g>\r\n       <use style=\"stroke:#000000;stroke-width:0.8;\" x=\"26.925\" xlink:href=\"#mec5479ede0\" y=\"11.082857\"/>\r\n      </g>\r\n     </g>\r\n     <g id=\"text_7\">\r\n      <!-- 0 -->\r\n      <g transform=\"translate(13.5625 14.882076)scale(0.1 -0.1)\">\r\n       <use xlink:href=\"#DejaVuSans-48\"/>\r\n      </g>\r\n     </g>\r\n    </g>\r\n    <g id=\"ytick_2\">\r\n     <g id=\"line2d_8\">\r\n      <g>\r\n       <use style=\"stroke:#000000;stroke-width:0.8;\" x=\"26.925\" xlink:href=\"#mec5479ede0\" y=\"49.911429\"/>\r\n      </g>\r\n     </g>\r\n     <g id=\"text_8\">\r\n      <!-- 5 -->\r\n      <g transform=\"translate(13.5625 53.710647)scale(0.1 -0.1)\">\r\n       <use xlink:href=\"#DejaVuSans-53\"/>\r\n      </g>\r\n     </g>\r\n    </g>\r\n    <g id=\"ytick_3\">\r\n     <g id=\"line2d_9\">\r\n      <g>\r\n       <use style=\"stroke:#000000;stroke-width:0.8;\" x=\"26.925\" xlink:href=\"#mec5479ede0\" y=\"88.74\"/>\r\n      </g>\r\n     </g>\r\n     <g id=\"text_9\">\r\n      <!-- 10 -->\r\n      <g transform=\"translate(7.2 92.539219)scale(0.1 -0.1)\">\r\n       <use xlink:href=\"#DejaVuSans-49\"/>\r\n       <use x=\"63.623047\" xlink:href=\"#DejaVuSans-48\"/>\r\n      </g>\r\n     </g>\r\n    </g>\r\n    <g id=\"ytick_4\">\r\n     <g id=\"line2d_10\">\r\n      <g>\r\n       <use style=\"stroke:#000000;stroke-width:0.8;\" x=\"26.925\" xlink:href=\"#mec5479ede0\" y=\"127.568571\"/>\r\n      </g>\r\n     </g>\r\n     <g id=\"text_10\">\r\n      <!-- 15 -->\r\n      <g transform=\"translate(7.2 131.36779)scale(0.1 -0.1)\">\r\n       <use xlink:href=\"#DejaVuSans-49\"/>\r\n       <use x=\"63.623047\" xlink:href=\"#DejaVuSans-53\"/>\r\n      </g>\r\n     </g>\r\n    </g>\r\n    <g id=\"ytick_5\">\r\n     <g id=\"line2d_11\">\r\n      <g>\r\n       <use style=\"stroke:#000000;stroke-width:0.8;\" x=\"26.925\" xlink:href=\"#mec5479ede0\" y=\"166.397143\"/>\r\n      </g>\r\n     </g>\r\n     <g id=\"text_11\">\r\n      <!-- 20 -->\r\n      <g transform=\"translate(7.2 170.196362)scale(0.1 -0.1)\">\r\n       <use xlink:href=\"#DejaVuSans-50\"/>\r\n       <use x=\"63.623047\" xlink:href=\"#DejaVuSans-48\"/>\r\n      </g>\r\n     </g>\r\n    </g>\r\n    <g id=\"ytick_6\">\r\n     <g id=\"line2d_12\">\r\n      <g>\r\n       <use style=\"stroke:#000000;stroke-width:0.8;\" x=\"26.925\" xlink:href=\"#mec5479ede0\" y=\"205.225714\"/>\r\n      </g>\r\n     </g>\r\n     <g id=\"text_12\">\r\n      <!-- 25 -->\r\n      <g transform=\"translate(7.2 209.024933)scale(0.1 -0.1)\">\r\n       <use xlink:href=\"#DejaVuSans-50\"/>\r\n       <use x=\"63.623047\" xlink:href=\"#DejaVuSans-53\"/>\r\n      </g>\r\n     </g>\r\n    </g>\r\n   </g>\r\n   <g id=\"patch_3\">\r\n    <path d=\"M 26.925 224.64 \r\nL 26.925 7.2 \r\n\" style=\"fill:none;stroke:#000000;stroke-linecap:square;stroke-linejoin:miter;stroke-width:0.8;\"/>\r\n   </g>\r\n   <g id=\"patch_4\">\r\n    <path d=\"M 244.365 224.64 \r\nL 244.365 7.2 \r\n\" style=\"fill:none;stroke:#000000;stroke-linecap:square;stroke-linejoin:miter;stroke-width:0.8;\"/>\r\n   </g>\r\n   <g id=\"patch_5\">\r\n    <path d=\"M 26.925 224.64 \r\nL 244.365 224.64 \r\n\" style=\"fill:none;stroke:#000000;stroke-linecap:square;stroke-linejoin:miter;stroke-width:0.8;\"/>\r\n   </g>\r\n   <g id=\"patch_6\">\r\n    <path d=\"M 26.925 7.2 \r\nL 244.365 7.2 \r\n\" style=\"fill:none;stroke:#000000;stroke-linecap:square;stroke-linejoin:miter;stroke-width:0.8;\"/>\r\n   </g>\r\n  </g>\r\n </g>\r\n <defs>\r\n  <clipPath id=\"pbea51d3293\">\r\n   <rect height=\"217.44\" width=\"217.44\" x=\"26.925\" y=\"7.2\"/>\r\n  </clipPath>\r\n </defs>\r\n</svg>\r\n",
      "image/png": "[encoded data removed]"
     },
     "metadata": {
      "needs_background": "light"
     }
    },
    {
     "output_type": "display_data",
     "data": {
      "text/plain": "<Figure size 432x288 with 1 Axes>",
      "image/svg+xml": "<?xml version=\"1.0\" encoding=\"utf-8\" standalone=\"no\"?>\r\n<!DOCTYPE svg PUBLIC \"-//W3C//DTD SVG 1.1//EN\"\r\n  \"http://www.w3.org/Graphics/SVG/1.1/DTD/svg11.dtd\">\r\n<!-- Created with matplotlib (https://matplotlib.org/) -->\r\n<svg height=\"248.518125pt\" version=\"1.1\" viewBox=\"0 0 251.565 248.518125\" width=\"251.565pt\" xmlns=\"http://www.w3.org/2000/svg\" xmlns:xlink=\"http://www.w3.org/1999/xlink\">\r\n <metadata>\r\n  <rdf:RDF xmlns:cc=\"http://creativecommons.org/ns#\" xmlns:dc=\"http://purl.org/dc/elements/1.1/\" xmlns:rdf=\"http://www.w3.org/1999/02/22-rdf-syntax-ns#\">\r\n   <cc:Work>\r\n    <dc:type rdf:resource=\"http://purl.org/dc/dcmitype/StillImage\"/>\r\n    <dc:date>2020-10-10T21:12:39.933538</dc:date>\r\n    <dc:format>image/svg+xml</dc:format>\r\n    <dc:creator>\r\n     <cc:Agent>\r\n      <dc:title>Matplotlib v3.3.1, https://matplotlib.org/</dc:title>\r\n     </cc:Agent>\r\n    </dc:creator>\r\n   </cc:Work>\r\n  </rdf:RDF>\r\n </metadata>\r\n <defs>\r\n  <style type=\"text/css\">*{stroke-linecap:butt;stroke-linejoin:round;}</style>\r\n </defs>\r\n <g id=\"figure_1\">\r\n  <g id=\"patch_1\">\r\n   <path d=\"M 0 248.518125 \r\nL 251.565 248.518125 \r\nL 251.565 0 \r\nL 0 0 \r\nz\r\n\" style=\"fill:none;\"/>\r\n  </g>\r\n  <g id=\"axes_1\">\r\n   <g id=\"patch_2\">\r\n    <path d=\"M 26.925 224.64 \r\nL 244.365 224.64 \r\nL 244.365 7.2 \r\nL 26.925 7.2 \r\nz\r\n\" style=\"fill:#ffffff;\"/>\r\n   </g>\r\n   <g clip-path=\"url(#p0369586dc4)\">\r\n    <image height=\"218\" id=\"imagef094d3417a\" transform=\"scale(1 -1)translate(0 -218)\" width=\"218\" x=\"26.925\" xlink:href=\"data:image/png;base64,\r\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\" y=\"-6.64\"/>\r\n   </g>\r\n   <g id=\"matplotlib.axis_1\">\r\n    <g id=\"xtick_1\">\r\n     <g id=\"line2d_1\">\r\n      <defs>\r\n       <path d=\"M 0 0 \r\nL 0 3.5 \r\n\" id=\"m6d8f864599\" style=\"stroke:#000000;stroke-width:0.8;\"/>\r\n      </defs>\r\n      <g>\r\n       <use style=\"stroke:#000000;stroke-width:0.8;\" x=\"30.807857\" xlink:href=\"#m6d8f864599\" y=\"224.64\"/>\r\n      </g>\r\n     </g>\r\n     <g id=\"text_1\">\r\n      <!-- 0 -->\r\n      <g transform=\"translate(27.626607 239.238437)scale(0.1 -0.1)\">\r\n       <defs>\r\n        <path d=\"M 31.78125 66.40625 \r\nQ 24.171875 66.40625 20.328125 58.90625 \r\nQ 16.5 51.421875 16.5 36.375 \r\nQ 16.5 21.390625 20.328125 13.890625 \r\nQ 24.171875 6.390625 31.78125 6.390625 \r\nQ 39.453125 6.390625 43.28125 13.890625 \r\nQ 47.125 21.390625 47.125 36.375 \r\nQ 47.125 51.421875 43.28125 58.90625 \r\nQ 39.453125 66.40625 31.78125 66.40625 \r\nz\r\nM 31.78125 74.21875 \r\nQ 44.046875 74.21875 50.515625 64.515625 \r\nQ 56.984375 54.828125 56.984375 36.375 \r\nQ 56.984375 17.96875 50.515625 8.265625 \r\nQ 44.046875 -1.421875 31.78125 -1.421875 \r\nQ 19.53125 -1.421875 13.0625 8.265625 \r\nQ 6.59375 17.96875 6.59375 36.375 \r\nQ 6.59375 54.828125 13.0625 64.515625 \r\nQ 19.53125 74.21875 31.78125 74.21875 \r\nz\r\n\" id=\"DejaVuSans-48\"/>\r\n       </defs>\r\n       <use xlink:href=\"#DejaVuSans-48\"/>\r\n      </g>\r\n     </g>\r\n    </g>\r\n    <g id=\"xtick_2\">\r\n     <g id=\"line2d_2\">\r\n      <g>\r\n       <use style=\"stroke:#000000;stroke-width:0.8;\" x=\"69.636429\" xlink:href=\"#m6d8f864599\" y=\"224.64\"/>\r\n      </g>\r\n     </g>\r\n     <g id=\"text_2\">\r\n      <!-- 5 -->\r\n      <g transform=\"translate(66.455179 239.238437)scale(0.1 -0.1)\">\r\n       <defs>\r\n        <path d=\"M 10.796875 72.90625 \r\nL 49.515625 72.90625 \r\nL 49.515625 64.59375 \r\nL 19.828125 64.59375 \r\nL 19.828125 46.734375 \r\nQ 21.96875 47.46875 24.109375 47.828125 \r\nQ 26.265625 48.1875 28.421875 48.1875 \r\nQ 40.625 48.1875 47.75 41.5 \r\nQ 54.890625 34.8125 54.890625 23.390625 \r\nQ 54.890625 11.625 47.5625 5.09375 \r\nQ 40.234375 -1.421875 26.90625 -1.421875 \r\nQ 22.3125 -1.421875 17.546875 -0.640625 \r\nQ 12.796875 0.140625 7.71875 1.703125 \r\nL 7.71875 11.625 \r\nQ 12.109375 9.234375 16.796875 8.0625 \r\nQ 21.484375 6.890625 26.703125 6.890625 \r\nQ 35.15625 6.890625 40.078125 11.328125 \r\nQ 45.015625 15.765625 45.015625 23.390625 \r\nQ 45.015625 31 40.078125 35.4375 \r\nQ 35.15625 39.890625 26.703125 39.890625 \r\nQ 22.75 39.890625 18.8125 39.015625 \r\nQ 14.890625 38.140625 10.796875 36.28125 \r\nz\r\n\" id=\"DejaVuSans-53\"/>\r\n       </defs>\r\n       <use xlink:href=\"#DejaVuSans-53\"/>\r\n      </g>\r\n     </g>\r\n    </g>\r\n    <g id=\"xtick_3\">\r\n     <g id=\"line2d_3\">\r\n      <g>\r\n       <use style=\"stroke:#000000;stroke-width:0.8;\" x=\"108.465\" xlink:href=\"#m6d8f864599\" y=\"224.64\"/>\r\n      </g>\r\n     </g>\r\n     <g id=\"text_3\">\r\n      <!-- 10 -->\r\n      <g transform=\"translate(102.1025 239.238437)scale(0.1 -0.1)\">\r\n       <defs>\r\n        <path d=\"M 12.40625 8.296875 \r\nL 28.515625 8.296875 \r\nL 28.515625 63.921875 \r\nL 10.984375 60.40625 \r\nL 10.984375 69.390625 \r\nL 28.421875 72.90625 \r\nL 38.28125 72.90625 \r\nL 38.28125 8.296875 \r\nL 54.390625 8.296875 \r\nL 54.390625 0 \r\nL 12.40625 0 \r\nz\r\n\" id=\"DejaVuSans-49\"/>\r\n       </defs>\r\n       <use xlink:href=\"#DejaVuSans-49\"/>\r\n       <use x=\"63.623047\" xlink:href=\"#DejaVuSans-48\"/>\r\n      </g>\r\n     </g>\r\n    </g>\r\n    <g id=\"xtick_4\">\r\n     <g id=\"line2d_4\">\r\n      <g>\r\n       <use style=\"stroke:#000000;stroke-width:0.8;\" x=\"147.293571\" xlink:href=\"#m6d8f864599\" y=\"224.64\"/>\r\n      </g>\r\n     </g>\r\n     <g id=\"text_4\">\r\n      <!-- 15 -->\r\n      <g transform=\"translate(140.931071 239.238437)scale(0.1 -0.1)\">\r\n       <use xlink:href=\"#DejaVuSans-49\"/>\r\n       <use x=\"63.623047\" xlink:href=\"#DejaVuSans-53\"/>\r\n      </g>\r\n     </g>\r\n    </g>\r\n    <g id=\"xtick_5\">\r\n     <g id=\"line2d_5\">\r\n      <g>\r\n       <use style=\"stroke:#000000;stroke-width:0.8;\" x=\"186.122143\" xlink:href=\"#m6d8f864599\" y=\"224.64\"/>\r\n      </g>\r\n     </g>\r\n     <g id=\"text_5\">\r\n      <!-- 20 -->\r\n      <g transform=\"translate(179.759643 239.238437)scale(0.1 -0.1)\">\r\n       <defs>\r\n        <path d=\"M 19.1875 8.296875 \r\nL 53.609375 8.296875 \r\nL 53.609375 0 \r\nL 7.328125 0 \r\nL 7.328125 8.296875 \r\nQ 12.9375 14.109375 22.625 23.890625 \r\nQ 32.328125 33.6875 34.8125 36.53125 \r\nQ 39.546875 41.84375 41.421875 45.53125 \r\nQ 43.3125 49.21875 43.3125 52.78125 \r\nQ 43.3125 58.59375 39.234375 62.25 \r\nQ 35.15625 65.921875 28.609375 65.921875 \r\nQ 23.96875 65.921875 18.8125 64.3125 \r\nQ 13.671875 62.703125 7.8125 59.421875 \r\nL 7.8125 69.390625 \r\nQ 13.765625 71.78125 18.9375 73 \r\nQ 24.125 74.21875 28.421875 74.21875 \r\nQ 39.75 74.21875 46.484375 68.546875 \r\nQ 53.21875 62.890625 53.21875 53.421875 \r\nQ 53.21875 48.921875 51.53125 44.890625 \r\nQ 49.859375 40.875 45.40625 35.40625 \r\nQ 44.1875 33.984375 37.640625 27.21875 \r\nQ 31.109375 20.453125 19.1875 8.296875 \r\nz\r\n\" id=\"DejaVuSans-50\"/>\r\n       </defs>\r\n       <use xlink:href=\"#DejaVuSans-50\"/>\r\n       <use x=\"63.623047\" xlink:href=\"#DejaVuSans-48\"/>\r\n      </g>\r\n     </g>\r\n    </g>\r\n    <g id=\"xtick_6\">\r\n     <g id=\"line2d_6\">\r\n      <g>\r\n       <use style=\"stroke:#000000;stroke-width:0.8;\" x=\"224.950714\" xlink:href=\"#m6d8f864599\" y=\"224.64\"/>\r\n      </g>\r\n     </g>\r\n     <g id=\"text_6\">\r\n      <!-- 25 -->\r\n      <g transform=\"translate(218.588214 239.238437)scale(0.1 -0.1)\">\r\n       <use xlink:href=\"#DejaVuSans-50\"/>\r\n       <use x=\"63.623047\" xlink:href=\"#DejaVuSans-53\"/>\r\n      </g>\r\n     </g>\r\n    </g>\r\n   </g>\r\n   <g id=\"matplotlib.axis_2\">\r\n    <g id=\"ytick_1\">\r\n     <g id=\"line2d_7\">\r\n      <defs>\r\n       <path d=\"M 0 0 \r\nL -3.5 0 \r\n\" id=\"mc9b11baca5\" style=\"stroke:#000000;stroke-width:0.8;\"/>\r\n      </defs>\r\n      <g>\r\n       <use style=\"stroke:#000000;stroke-width:0.8;\" x=\"26.925\" xlink:href=\"#mc9b11baca5\" y=\"11.082857\"/>\r\n      </g>\r\n     </g>\r\n     <g id=\"text_7\">\r\n      <!-- 0 -->\r\n      <g transform=\"translate(13.5625 14.882076)scale(0.1 -0.1)\">\r\n       <use xlink:href=\"#DejaVuSans-48\"/>\r\n      </g>\r\n     </g>\r\n    </g>\r\n    <g id=\"ytick_2\">\r\n     <g id=\"line2d_8\">\r\n      <g>\r\n       <use style=\"stroke:#000000;stroke-width:0.8;\" x=\"26.925\" xlink:href=\"#mc9b11baca5\" y=\"49.911429\"/>\r\n      </g>\r\n     </g>\r\n     <g id=\"text_8\">\r\n      <!-- 5 -->\r\n      <g transform=\"translate(13.5625 53.710647)scale(0.1 -0.1)\">\r\n       <use xlink:href=\"#DejaVuSans-53\"/>\r\n      </g>\r\n     </g>\r\n    </g>\r\n    <g id=\"ytick_3\">\r\n     <g id=\"line2d_9\">\r\n      <g>\r\n       <use style=\"stroke:#000000;stroke-width:0.8;\" x=\"26.925\" xlink:href=\"#mc9b11baca5\" y=\"88.74\"/>\r\n      </g>\r\n     </g>\r\n     <g id=\"text_9\">\r\n      <!-- 10 -->\r\n      <g transform=\"translate(7.2 92.539219)scale(0.1 -0.1)\">\r\n       <use xlink:href=\"#DejaVuSans-49\"/>\r\n       <use x=\"63.623047\" xlink:href=\"#DejaVuSans-48\"/>\r\n      </g>\r\n     </g>\r\n    </g>\r\n    <g id=\"ytick_4\">\r\n     <g id=\"line2d_10\">\r\n      <g>\r\n       <use style=\"stroke:#000000;stroke-width:0.8;\" x=\"26.925\" xlink:href=\"#mc9b11baca5\" y=\"127.568571\"/>\r\n      </g>\r\n     </g>\r\n     <g id=\"text_10\">\r\n      <!-- 15 -->\r\n      <g transform=\"translate(7.2 131.36779)scale(0.1 -0.1)\">\r\n       <use xlink:href=\"#DejaVuSans-49\"/>\r\n       <use x=\"63.623047\" xlink:href=\"#DejaVuSans-53\"/>\r\n      </g>\r\n     </g>\r\n    </g>\r\n    <g id=\"ytick_5\">\r\n     <g id=\"line2d_11\">\r\n      <g>\r\n       <use style=\"stroke:#000000;stroke-width:0.8;\" x=\"26.925\" xlink:href=\"#mc9b11baca5\" y=\"166.397143\"/>\r\n      </g>\r\n     </g>\r\n     <g id=\"text_11\">\r\n      <!-- 20 -->\r\n      <g transform=\"translate(7.2 170.196362)scale(0.1 -0.1)\">\r\n       <use xlink:href=\"#DejaVuSans-50\"/>\r\n       <use x=\"63.623047\" xlink:href=\"#DejaVuSans-48\"/>\r\n      </g>\r\n     </g>\r\n    </g>\r\n    <g id=\"ytick_6\">\r\n     <g id=\"line2d_12\">\r\n      <g>\r\n       <use style=\"stroke:#000000;stroke-width:0.8;\" x=\"26.925\" xlink:href=\"#mc9b11baca5\" y=\"205.225714\"/>\r\n      </g>\r\n     </g>\r\n     <g id=\"text_12\">\r\n      <!-- 25 -->\r\n      <g transform=\"translate(7.2 209.024933)scale(0.1 -0.1)\">\r\n       <use xlink:href=\"#DejaVuSans-50\"/>\r\n       <use x=\"63.623047\" xlink:href=\"#DejaVuSans-53\"/>\r\n      </g>\r\n     </g>\r\n    </g>\r\n   </g>\r\n   <g id=\"patch_3\">\r\n    <path d=\"M 26.925 224.64 \r\nL 26.925 7.2 \r\n\" style=\"fill:none;stroke:#000000;stroke-linecap:square;stroke-linejoin:miter;stroke-width:0.8;\"/>\r\n   </g>\r\n   <g id=\"patch_4\">\r\n    <path d=\"M 244.365 224.64 \r\nL 244.365 7.2 \r\n\" style=\"fill:none;stroke:#000000;stroke-linecap:square;stroke-linejoin:miter;stroke-width:0.8;\"/>\r\n   </g>\r\n   <g id=\"patch_5\">\r\n    <path d=\"M 26.925 224.64 \r\nL 244.365 224.64 \r\n\" style=\"fill:none;stroke:#000000;stroke-linecap:square;stroke-linejoin:miter;stroke-width:0.8;\"/>\r\n   </g>\r\n   <g id=\"patch_6\">\r\n    <path d=\"M 26.925 7.2 \r\nL 244.365 7.2 \r\n\" style=\"fill:none;stroke:#000000;stroke-linecap:square;stroke-linejoin:miter;stroke-width:0.8;\"/>\r\n   </g>\r\n  </g>\r\n </g>\r\n <defs>\r\n  <clipPath id=\"p0369586dc4\">\r\n   <rect height=\"217.44\" width=\"217.44\" x=\"26.925\" y=\"7.2\"/>\r\n  </clipPath>\r\n </defs>\r\n</svg>\r\n",
      "image/png": "[encoded data removed]"
     },
     "metadata": {
      "needs_background": "light"
     }
    }
   ],
   "source": [
    "for i in range(3):\n",
    "    img = X_train[i].reshape((28,28))\n",
    "    plt.imshow(img, cmap=\"Greys\")\n",
    "    plt.show()"
   ]
  },
  {
   "source": [
    "## 3. Modelling process"
   ],
   "cell_type": "markdown",
   "metadata": {}
  },
  {
   "cell_type": "code",
   "execution_count": 7,
   "metadata": {},
   "outputs": [],
   "source": [
    "def model_name(modeldirpath_,config_):\n",
    "    '''\n",
    "    This function builds the NN model save name and full path.\n",
    "    '''\n",
    "    max_ = 0\n",
    "    for i in glob.glob(f'{modeldirpath_}\\*.tf'):\n",
    "        num = int(i[-6]+i[-5]+i[-4])\n",
    "        if num > max_:\n",
    "            max_ = num\n",
    "    max_ = max_+1\n",
    "    conf_build = ''\n",
    "    for i in config_:\n",
    "        conf_build += str(i)+'-'\n",
    "    filename = f'{modeldirpath_}\\cnn-model-{conf_build}{max_:03d}.tf'\n",
    "    return filename"
   ]
  },
  {
   "cell_type": "code",
   "execution_count": 8,
   "metadata": {},
   "outputs": [
    {
     "output_type": "stream",
     "name": "stdout",
     "text": [
      "Wall time: 0 ns\n"
     ]
    }
   ],
   "source": [
    "%%time\n",
    "def model_fit(X_train, y_train, config, savepath):\n",
    "    '''\n",
    "    Define model.\n",
    "    '''\n",
    "    epoch = config[0]\n",
    "    init_LR = config[1]\n",
    "    batch = config[2]\n",
    "    \n",
    "    model = Sequential()\n",
    "    model.add(Conv2D(32, kernel_size=(3,3), activation='relu', input_shape=(28,28,1)) ) # Filters normal: 25,32 ++ (kfold)\n",
    "    model.add(Conv2D(64, kernel_size=(3,3), activation='relu')) # Kernel size is filter size - stride=1 is standard, specify if you want something else. If you have two conv layers after each other the filter amount must be double in the next layer.\n",
    "    model.add(MaxPooling2D(pool_size=(2,2)))\n",
    "    model.add(Dropout(0.25))\n",
    "    model.add(Flatten())          \n",
    "    model.add(Dense(100, activation='relu'))\n",
    "    model.add(Dropout(0.5))\n",
    "    model.add(Dense(10, activation='softmax'))\n",
    "\n",
    "    opt = Adam(lr=init_LR, decay=init_LR / epoch)\n",
    "    model.compile(loss='categorical_crossentropy', optimizer=opt, metrics=['accuracy'])\n",
    "    model.fit(X_train, y_train, epochs=epoch, batch_size=batch, validation_split=0.20, workers=3)\n",
    "    \n",
    "    # Saving the model\n",
    "    model.save(model_name(savepath,config))\n",
    "    return model"
   ]
  },
  {
   "source": [
    "## 4. Training process"
   ],
   "cell_type": "markdown",
   "metadata": {}
  },
  {
   "cell_type": "code",
   "execution_count": null,
   "metadata": {},
   "outputs": [],
   "source": [
    "# 100, 1e-4, 16 : loss: 0.0458 - accuracy: 0.9831 - val_loss: 0.3160 - val_accuracy: 0.9323 # Prediction: 0.9355000257492065\n",
    "# 10, 1e-4, 100# Prediction: 0.8974999785423279\n",
    "# 10, 1e-4, 16 : loss: 0.2607 - accuracy: 0.9064 - val_loss: 0.2485 - val_accuracy: 0.9123 # Prediction: 0.9125999808311462"
   ]
  },
  {
   "cell_type": "code",
   "execution_count": 9,
   "metadata": {},
   "outputs": [
    {
     "output_type": "stream",
     "name": "stdout",
     "text": [
      "Train on 48000 samples, validate on 12000 samples\n",
      "Epoch 1/10\n",
      "48000/48000 [==============================] - 16s 331us/step - loss: 0.6869 - accuracy: 0.7581 - val_loss: 0.4174 - val_accuracy: 0.8554\n",
      "Epoch 2/10\n",
      "48000/48000 [==============================] - 15s 309us/step - loss: 0.4524 - accuracy: 0.8410 - val_loss: 0.3529 - val_accuracy: 0.8752\n",
      "Epoch 3/10\n",
      "48000/48000 [==============================] - 15s 312us/step - loss: 0.3883 - accuracy: 0.8627 - val_loss: 0.3206 - val_accuracy: 0.8875\n",
      "Epoch 4/10\n",
      "48000/48000 [==============================] - 15s 313us/step - loss: 0.3551 - accuracy: 0.8754 - val_loss: 0.2986 - val_accuracy: 0.8954\n",
      "Epoch 5/10\n",
      "48000/48000 [==============================] - 15s 312us/step - loss: 0.3315 - accuracy: 0.8844 - val_loss: 0.2854 - val_accuracy: 0.9003\n",
      "Epoch 6/10\n",
      "48000/48000 [==============================] - 15s 307us/step - loss: 0.3117 - accuracy: 0.8890 - val_loss: 0.2776 - val_accuracy: 0.9031\n",
      "Epoch 7/10\n",
      "48000/48000 [==============================] - 15s 311us/step - loss: 0.2925 - accuracy: 0.8955 - val_loss: 0.2649 - val_accuracy: 0.9062\n",
      "Epoch 8/10\n",
      "48000/48000 [==============================] - 15s 317us/step - loss: 0.2812 - accuracy: 0.8998 - val_loss: 0.2585 - val_accuracy: 0.9114\n",
      "Epoch 9/10\n",
      "48000/48000 [==============================] - 15s 314us/step - loss: 0.2722 - accuracy: 0.9030 - val_loss: 0.2556 - val_accuracy: 0.9122\n",
      "Epoch 10/10\n",
      "48000/48000 [==============================] - 15s 312us/step - loss: 0.2607 - accuracy: 0.9064 - val_loss: 0.2485 - val_accuracy: 0.9123\n",
      "Wall time: 2min 31s\n"
     ]
    }
   ],
   "source": [
    "%%time\n",
    "# Training\n",
    "save_model_folder_path = r'C:\\Users\\leon.helgeland\\Documents\\GitHub\\Models\\S05MAL_Session_13_model'\n",
    "config = [10, 1e-4, 16]#16] # Epoch, inital_learning_rate, batch_size\n",
    "neural_network = model_fit(X_train, y_train, config, save_model_folder_path)"
   ]
  },
  {
   "cell_type": "code",
   "execution_count": 10,
   "metadata": {},
   "outputs": [
    {
     "output_type": "stream",
     "name": "stdout",
     "text": [
      "Model: \"sequential_1\"\n_________________________________________________________________\nLayer (type)                 Output Shape              Param #   \n=================================================================\nconv2d_1 (Conv2D)            (None, 26, 26, 32)        320       \n_________________________________________________________________\nconv2d_2 (Conv2D)            (None, 24, 24, 64)        18496     \n_________________________________________________________________\nmax_pooling2d_1 (MaxPooling2 (None, 12, 12, 64)        0         \n_________________________________________________________________\ndropout_1 (Dropout)          (None, 12, 12, 64)        0         \n_________________________________________________________________\nflatten_1 (Flatten)          (None, 9216)              0         \n_________________________________________________________________\ndense_1 (Dense)              (None, 100)               921700    \n_________________________________________________________________\ndropout_2 (Dropout)          (None, 100)               0         \n_________________________________________________________________\ndense_2 (Dense)              (None, 10)                1010      \n=================================================================\nTotal params: 941,526\nTrainable params: 941,526\nNon-trainable params: 0\n_________________________________________________________________\nWall time: 998 µs\n"
     ]
    }
   ],
   "source": [
    "%%time\n",
    "neural_network.summary()"
   ]
  },
  {
   "source": [
    "## 5. Prediction proces"
   ],
   "cell_type": "markdown",
   "metadata": {}
  },
  {
   "cell_type": "code",
   "execution_count": 17,
   "metadata": {},
   "outputs": [
    {
     "output_type": "stream",
     "name": "stdout",
     "text": [
      "Model: \"sequential_5\"\n_________________________________________________________________\nLayer (type)                 Output Shape              Param #   \n=================================================================\nconv2d_7 (Conv2D)            (None, 26, 26, 32)        320       \n_________________________________________________________________\nconv2d_8 (Conv2D)            (None, 24, 24, 64)        18496     \n_________________________________________________________________\nmax_pooling2d_4 (MaxPooling2 (None, 12, 12, 64)        0         \n_________________________________________________________________\ndropout_7 (Dropout)          (None, 12, 12, 64)        0         \n_________________________________________________________________\nflatten_4 (Flatten)          (None, 9216)              0         \n_________________________________________________________________\ndense_7 (Dense)              (None, 100)               921700    \n_________________________________________________________________\ndropout_8 (Dropout)          (None, 100)               0         \n_________________________________________________________________\ndense_8 (Dense)              (None, 10)                1010      \n=================================================================\nTotal params: 941,526\nTrainable params: 941,526\nNon-trainable params: 0\n_________________________________________________________________\n"
     ]
    }
   ],
   "source": [
    "# \n",
    "load_model_selection = 'cnn-model-100-0.0001-16-003.tf'\n",
    "path_load = r'C:\\Users\\leon.helgeland\\Documents\\GitHub\\Models\\S05MAL_Session_13_model' \n",
    "neural_network_loaded = load_model(f'{path_load}\\{load_model_selection}')\n",
    "neural_network_loaded.summary()"
   ]
  },
  {
   "cell_type": "code",
   "execution_count": 18,
   "metadata": {},
   "outputs": [],
   "source": [
    "# Enable loaded model\n",
    "neural_network = neural_network_loaded"
   ]
  },
  {
   "cell_type": "code",
   "execution_count": 19,
   "metadata": {},
   "outputs": [
    {
     "output_type": "stream",
     "name": "stdout",
     "text": [
      "10000/10000 [==============================] - 1s 123us/step\n",
      "Wall time: 1.83 s\n"
     ]
    },
    {
     "output_type": "execute_result",
     "data": {
      "text/plain": [
       "0.9355000257492065"
      ]
     },
     "metadata": {},
     "execution_count": 19
    }
   ],
   "source": [
    "%%time\n",
    "Pred_class = neural_network.predict_classes(X_test)\n",
    "(eval_loss, eval_accuracy) = neural_network.evaluate(X_test,y_test, batch_size=16, verbose=1)\n",
    "eval_accuracy"
   ]
  },
  {
   "source": [
    "# Testing"
   ],
   "cell_type": "markdown",
   "metadata": {}
  },
  {
   "cell_type": "code",
   "execution_count": null,
   "metadata": {},
   "outputs": [],
   "source": [
    "%%time\n",
    "# Make predictions - Use the model to generate predictions on new data by calling functions such as evaluate() or predict() on the model.\n",
    "\n",
    "# predict with the fit model\n",
    "def model_predict(model, testdata):\n",
    "    Prediction = model.predict(testdata, verbose=0)\n",
    "    return Prediction\n",
    "\n",
    "# Calculate accuracy percentage\n",
    "def accuracy_metric(actual, predicted):\n",
    "    correct = 0\n",
    "    for i in range(len(actual)):\n",
    "        if actual[i] == predicted[i]:\n",
    "            correct += 1\n",
    "    return correct / float(len(actual)) * 100.0"
   ]
  },
  {
   "cell_type": "code",
   "execution_count": null,
   "metadata": {},
   "outputs": [],
   "source": [
    "%%time\n",
    "def model_fit(X_train, y_train, config, savepath):\n",
    "    '''\n",
    "    Define model.\n",
    "    '''\n",
    "    epoch = config[0]\n",
    "    init_LR = config[1]\n",
    "    batch = config[2]\n",
    "    \n",
    "    model = Sequential()\n",
    "\n",
    "    # Convolutional and maxPooling\n",
    "    # Input: 1 x 28 x 28\n",
    "    model.add(Convolution2D( 25,3,3, input_shape=(28,28,1)) )\n",
    "    # C1: 25 x 26 x 26\n",
    "    model.add(MaxPooling2D(( 2,2 )))\n",
    "    # M1: 25 x 13 x 13\n",
    "    model.add(Convolution2D( 50,3,3 ))\n",
    "    # C2: 50 x 11 x 11\n",
    "    model.add(MaxPooling2D(( 2,2 )))\n",
    "    # M2: 50 x 5 x 5\n",
    "    model.add(Flatten())\n",
    "    # F: 1250\n",
    "\n",
    "    # Fully connected feedforward network\n",
    "    model.add(Dense(output_dim=100))\n",
    "    model.add(Activation('relu'))\n",
    "    model.add(Dense(output_dim=10))\n",
    "    model.add(Activation('softmax'))\n",
    "\n",
    "    model.compile(loss='categorical_crossentropy', optimizer='adam', metrics=['accuracy'])\n",
    "    model.fit(X_train, y_train, epochs=epoch, batch_size=batch, use_multiprocessing=True, workers=8)\n",
    "    \n",
    "    # Saving the model\n",
    "    Model.save(model_name(savepath,config))\n",
    "    return model"
   ]
  },
  {
   "cell_type": "code",
   "execution_count": null,
   "metadata": {},
   "outputs": [],
   "source": [
    "\n",
    "modeldirpathx = r'C:\\Users\\leon.helgeland\\Documents\\GitHub\\Models\\S05MAL_Session_13_model'\n",
    "#for i in glob.glob(f'{modeldirpathx}\\*.tf'):\n",
    "#    print(i, type(i), (int(i[-6]+i[-5]+i[-4])+1), type(i[-6]+i[-5]+i[-4]))\n",
    "modelname = model_name(modeldirpathx, configx)\n",
    "print(modelname)"
   ]
  },
  {
   "cell_type": "code",
   "execution_count": null,
   "metadata": {},
   "outputs": [],
   "source": [
    "datagen = ImageDataGenerator(horizontal_flip=True, vertical_flip=True)\n",
    "\n",
    "datagen.fit(X_train)\n",
    "for X_batch, y_batch in datagen.flow(X_train, y_train, batch_size=9):\n",
    "# grid of 3x3 images\n",
    "    for i in range(0, 9):\n",
    "        pyplot.subplot(330 + 1 + i)\n",
    "        pyplot.imshow(X_batch[i].reshape(28, 28), cmap=pyplot.get_cmap('gray'))\n",
    "    pyplot.show()\n",
    "    break"
   ]
  }
 ]
}