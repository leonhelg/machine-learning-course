{
 "metadata": {
  "language_info": {
   "codemirror_mode": {
    "name": "ipython",
    "version": 3
   },
   "file_extension": ".py",
   "mimetype": "text/x-python",
   "name": "python",
   "nbconvert_exporter": "python",
   "pygments_lexer": "ipython3",
   "version": "3.7.6-final"
  },
  "orig_nbformat": 2,
  "kernelspec": {
   "name": "python_defaultSpec_1598451952733",
   "display_name": "Python 3.7.6 64-bit ('base': conda)"
  }
 },
 "nbformat": 4,
 "nbformat_minor": 2,
 "cells": [
  {
   "cell_type": "markdown",
   "metadata": {},
   "source": [
    "UC3MAL201 Machine Learning Session 3 Activity sheet 3\n",
    "Leon Eriksen Helgeland\n",
    "# Linear Regression\n",
    "### Objective \n",
    "In this activity sheet we will learn how to implement linear regression models using scikit-learn. The dataset that is going to be used for training your models has ben provided to you. You should load it using appropriate Python code and Pandas libraries and then split the data into training and testing datasets as indicated below. Create and train different linear regression models, evaluate and compare them following the steps below.\n",
    "\n",
    "### Dataset description   \n",
    "A governmental authority, responsible for environmental issues of your country, wants to decrease the CO2 emissions of cars on the streets. So, it is going to apply a fee policy to car owners based on the predicted emissions of their owning cars. In order to predict the CO2 emission of each car, not being able to measure all the cars individually, is going to use the Fuel Consumption dataset of 2015. It’s a fairly small dataset comprising of around 1000 entries (so we are not going to put your computers into test here). "
   ]
  },
  {
   "cell_type": "code",
   "execution_count": 2,
   "metadata": {},
   "outputs": [
    {
     "output_type": "error",
     "ename": "ImportError",
     "evalue": "No module named pandas",
     "traceback": [
      "\u001b[1;31m\u001b[0m",
      "\u001b[1;31mImportError\u001b[0mTraceback (most recent call last)",
      "\u001b[1;32m<ipython-input-2-f766856c5933>\u001b[0m in \u001b[0;36m<module>\u001b[1;34m()\u001b[0m\n\u001b[1;32m----> 1\u001b[1;33m \u001b[1;32mimport\u001b[0m \u001b[0mpandas\u001b[0m \u001b[1;32mas\u001b[0m \u001b[0mpd\u001b[0m\u001b[1;33m\u001b[0m\u001b[0m\n\u001b[0m\u001b[0;32m      2\u001b[0m \u001b[1;32mimport\u001b[0m \u001b[0mnumpy\u001b[0m \u001b[1;32mas\u001b[0m \u001b[0mnp\u001b[0m\u001b[1;33m\u001b[0m\u001b[0m\n\u001b[0;32m      3\u001b[0m \u001b[1;32mimport\u001b[0m \u001b[0mos\u001b[0m\u001b[1;33m\u001b[0m\u001b[0m\n\u001b[0;32m      4\u001b[0m \u001b[1;32mimport\u001b[0m \u001b[0mmatplotlib\u001b[0m\u001b[1;33m.\u001b[0m\u001b[0mpyplot\u001b[0m \u001b[1;32mas\u001b[0m \u001b[0mplt\u001b[0m\u001b[1;33m\u001b[0m\u001b[0m\n\u001b[0;32m      5\u001b[0m \u001b[1;32mfrom\u001b[0m \u001b[0msklearn\u001b[0m\u001b[1;33m.\u001b[0m\u001b[0mmodel_selection\u001b[0m \u001b[1;32mimport\u001b[0m \u001b[0mtrain_test_split\u001b[0m\u001b[1;33m\u001b[0m\u001b[0m\n",
      "\u001b[1;31mImportError\u001b[0m: No module named pandas"
     ]
    }
   ],
   "source": [
    "import pandas as pd\n",
    "import numpy as np\n",
    "import os\n",
    "import matplotlib.pyplot as plt\n",
    "from sklearn.model_selection import train_test_split"
   ]
  },
  {
   "cell_type": "markdown",
   "metadata": {},
   "source": [
    "# 1. Basic data preprocessing  \n",
    "- A) Load the data using the Pandas library \n",
    "- B) Explore the data: are there any errors, any missing values? are all the attributes numerical or there are also categorical ones? \n",
    "- C) Split the data into training and testing datasets with a ratio of 80% - 20%"
   ]
  },
  {
   "cell_type": "code",
   "execution_count": null,
   "metadata": {},
   "outputs": [],
   "source": []
  },
  {
   "cell_type": "markdown",
   "metadata": {},
   "source": [
    "# 2. Investigate correlations between attributes\n",
    "Compute the linear correlation between each attribute and the target value, using the corr() method. Plot also histograms to visualise the correlation between them."
   ]
  },
  {
   "cell_type": "code",
   "execution_count": null,
   "metadata": {},
   "outputs": [],
   "source": []
  },
  {
   "cell_type": "markdown",
   "metadata": {},
   "source": [
    "# 3.Simple linear regression\n",
    "- A) If you should use only one of the independent variables of the dataset to predict CO2 emissions, which one would that be and why?\n",
    "- B) Use sklearn packages to train a simple linear regression model with the chosen variable\n",
    "- C) Print the model’s coefTicients \n",
    "- D) Plot the linear regression line on the training data \n",
    "- E) Evaluate your model using evaluation scores of \n",
    "    - a) Mean absolute error, b) Residual sum of squares and c) R2-score"
   ]
  },
  {
   "cell_type": "code",
   "execution_count": null,
   "metadata": {},
   "outputs": [],
   "source": []
  },
  {
   "cell_type": "markdown",
   "metadata": {},
   "source": [
    "# 4. Multivariable linear regression\n",
    "- A) If you should use a second independent variables of the dataset to predict CO2 emissions, which one would that be and why? \n",
    "- B) Use sklearn packages to train a multivariable linear regression model with the 2 chosen variables this time\n",
    "- C) Evaluate your new model using evaluation scores of \n",
    "    - a) Mean absolute error, \n",
    "    - b) Residual sum of squares and \n",
    "    - c) R2-score\n",
    "- D) Compare the evaluation scores of the simple and multivariable linear models. Which one performs better? Can you further improve the performance of a regressor by considering additional attributes?  "
   ]
  },
  {
   "cell_type": "code",
   "execution_count": null,
   "metadata": {},
   "outputs": [],
   "source": []
  }
 ]
}