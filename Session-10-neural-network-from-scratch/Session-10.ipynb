{
 "metadata": {
  "language_info": {
   "codemirror_mode": {
    "name": "ipython",
    "version": 3
   },
   "file_extension": ".py",
   "mimetype": "text/x-python",
   "name": "python",
   "nbconvert_exporter": "python",
   "pygments_lexer": "ipython3",
   "version": "3.7.9-final"
  },
  "orig_nbformat": 2,
  "kernelspec": {
   "name": "Python 3.7.9 64-bit ('Conda-TF-Nightly-v2.4.0-GPU': conda)",
   "display_name": "Python 3.7.9 64-bit ('Conda-TF-Nightly-v2.4.0-GPU': conda)",
   "metadata": {
    "interpreter": {
     "hash": "632eda4776f98d4df847e2adfe21c25da6fe8f6364747f542a685eecb742cdde"
    }
   }
  }
 },
 "nbformat": 4,
 "nbformat_minor": 2,
 "cells": [
  {
   "source": [
    "UC3MAL201 Machine Learning Session 10 Tutorial 10 Leon Eriksen Helgeland -\n",
    "First written 05.10.2020\n",
    "\n",
    "# Neural Network from Scratch"
   ],
   "cell_type": "markdown",
   "metadata": {}
  },
  {
   "cell_type": "code",
   "execution_count": 94,
   "metadata": {},
   "outputs": [],
   "source": [
    "dataset_file = r'seeds_dataset.csv'\n",
    "dataset_directory = r'C:\\Users\\leon.helgeland\\Documents\\GitHub\\machine-learning-course\\Session-10-neural-network-from-scratch\\dataset' \n",
    "#'~/GitHub/BigData/dataset11'\n",
    "path = f'{dataset_directory}\\{dataset_file}'"
   ]
  },
  {
   "cell_type": "code",
   "execution_count": 103,
   "metadata": {
    "tags": []
   },
   "outputs": [
    {
     "output_type": "stream",
     "name": "stdout",
     "text": "Wall time: 0 ns\n"
    }
   ],
   "source": [
    "%%time\n",
    "def read_float_csv(path):\n",
    "    return [[float(i) for i in line.split(',')] for line in open(path,\"r\")]"
   ]
  },
  {
   "cell_type": "code",
   "execution_count": null,
   "metadata": {},
   "outputs": [],
   "source": [
    "def train_test_split(y_column_index = data):\n",
    "    # if y != 0 or 1:\n",
    "    # then hot one encoder\n",
    "    return X_train = [], y_train = [], X_test = [], y_test = []\n",
    "\n",
    "def model_fit(X_train, y_train, config):\n"
   ]
  }
 ]
}